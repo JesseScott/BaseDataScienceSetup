{
 "cells": [
  {
   "cell_type": "markdown",
   "metadata": {},
   "source": [
    "This is based on our official notebook - not something I can take credit for :)\n",
    "https://github.com/planetlabs/planet-amazon-deforestation/blob/master/planet_chip_examples.ipynb\n",
    "\n",
    "# *Planet: Understanding the Amazon from Space* challenge\n",
    "\n",
    "This notebook will show you how to do some basic manipulation of the images and label files."
   ]
  },
  {
   "cell_type": "code",
   "execution_count": 1,
   "metadata": {
    "collapsed": true
   },
   "outputs": [],
   "source": [
    "import sys\n",
    "import os\n",
    "import subprocess\n",
    "\n",
    "from six import string_types\n",
    "\n",
    "# Make sure you have all of these packages installed, e.g. via pip\n",
    "import numpy as np\n",
    "import pandas as pd\n",
    "import seaborn as sns\n",
    "import matplotlib.pyplot as plt\n",
    "import matplotlib.image as mpimg\n",
    "import scipy\n",
    "from skimage import io\n",
    "from scipy import ndimage\n",
    "from IPython.display import display\n",
    "%matplotlib inline"
   ]
  },
  {
   "cell_type": "code",
   "execution_count": 2,
   "metadata": {
    "collapsed": false
   },
   "outputs": [
    {
     "name": "stdout",
     "output_type": "stream",
     "text": [
      "total 1.4M\r\n",
      "drwxr-xr-x     5 root root  170 May 13 02:01 .\r\n",
      "drwxr-xr-x     9 root root  306 May 13 02:01 ..\r\n",
      "-rw-r--r--     1 root root 6.1K May 13 02:01 .DS_Store\r\n",
      "drwxr-xr-x 40481 root root 1.4M Apr 19 21:59 train-jpg\r\n",
      "-rw-r--r--     1 root root 1.4M May  9 02:52 train.csv\r\n"
     ]
    }
   ],
   "source": [
    "!ls -lha ../input"
   ]
  },
  {
   "cell_type": "code",
   "execution_count": 3,
   "metadata": {
    "collapsed": false
   },
   "outputs": [
    {
     "name": "stdout",
     "output_type": "stream",
     "text": [
      "ls: cannot access ../input/test-tif-v2: No such file or directory\r\n",
      "0\r\n"
     ]
    }
   ],
   "source": [
    "!ls -lha ../input/test-tif-v2 | wc -l"
   ]
  },
  {
   "cell_type": "markdown",
   "metadata": {},
   "source": [
    "## Setup\n",
    "Set `PLANET_KAGGLE_ROOT` to the proper directory where we've got the TIFF and JPEG zip files, and accompanying CSVs."
   ]
  },
  {
   "cell_type": "code",
   "execution_count": 10,
   "metadata": {
    "collapsed": false
   },
   "outputs": [],
   "source": [
    "PLANET_KAGGLE_ROOT = os.path.abspath(\"../input/\")\n",
    "PLANET_KAGGLE_JPEG_DIR = os.path.join(PLANET_KAGGLE_ROOT, 'train-jpg')\n",
    "PLANET_KAGGLE_LABEL_CSV = os.path.join(PLANET_KAGGLE_ROOT, 'train.csv')\n",
    "assert os.path.exists(PLANET_KAGGLE_ROOT)\n",
    "assert os.path.exists(PLANET_KAGGLE_JPEG_DIR)\n",
    "assert os.path.exists(PLANET_KAGGLE_LABEL_CSV)"
   ]
  },
  {
   "cell_type": "markdown",
   "metadata": {},
   "source": [
    "## Inspect image labels\n",
    "The labels are in a CSV entitled `train.csv`. Note that each image can be tagged with multiple tags. We'll convert them to a \"one hot\" style representation where each label is a column:"
   ]
  },
  {
   "cell_type": "code",
   "execution_count": 11,
   "metadata": {
    "collapsed": false
   },
   "outputs": [
    {
     "name": "stdout",
     "output_type": "stream",
     "text": [
      "-rw-r--r-- 1 root root 1.4M May  9 02:52 ../input/train.csv\r\n"
     ]
    }
   ],
   "source": [
    "!ls -lha ../input/train.csv"
   ]
  },
  {
   "cell_type": "code",
   "execution_count": 12,
   "metadata": {
    "collapsed": false
   },
   "outputs": [
    {
     "data": {
      "text/html": [
       "<div>\n",
       "<table border=\"1\" class=\"dataframe\">\n",
       "  <thead>\n",
       "    <tr style=\"text-align: right;\">\n",
       "      <th></th>\n",
       "      <th>image_name</th>\n",
       "      <th>tags</th>\n",
       "    </tr>\n",
       "  </thead>\n",
       "  <tbody>\n",
       "    <tr>\n",
       "      <th>0</th>\n",
       "      <td>train_0</td>\n",
       "      <td>haze primary</td>\n",
       "    </tr>\n",
       "    <tr>\n",
       "      <th>1</th>\n",
       "      <td>train_1</td>\n",
       "      <td>agriculture clear primary water</td>\n",
       "    </tr>\n",
       "    <tr>\n",
       "      <th>2</th>\n",
       "      <td>train_2</td>\n",
       "      <td>clear primary</td>\n",
       "    </tr>\n",
       "    <tr>\n",
       "      <th>3</th>\n",
       "      <td>train_3</td>\n",
       "      <td>clear primary</td>\n",
       "    </tr>\n",
       "    <tr>\n",
       "      <th>4</th>\n",
       "      <td>train_4</td>\n",
       "      <td>agriculture clear habitation primary road</td>\n",
       "    </tr>\n",
       "  </tbody>\n",
       "</table>\n",
       "</div>"
      ],
      "text/plain": [
       "  image_name                                       tags\n",
       "0    train_0                               haze primary\n",
       "1    train_1            agriculture clear primary water\n",
       "2    train_2                              clear primary\n",
       "3    train_3                              clear primary\n",
       "4    train_4  agriculture clear habitation primary road"
      ]
     },
     "execution_count": 12,
     "metadata": {},
     "output_type": "execute_result"
    }
   ],
   "source": [
    "labels_df = pd.read_csv(PLANET_KAGGLE_LABEL_CSV)\n",
    "labels_df.head()"
   ]
  },
  {
   "cell_type": "code",
   "execution_count": 13,
   "metadata": {
    "collapsed": true
   },
   "outputs": [],
   "source": [
    "# Build list with unique labels\n",
    "label_list = []\n",
    "for tag_str in labels_df.tags.values:\n",
    "    labels = tag_str.split(' ')\n",
    "    for label in labels:\n",
    "        if label not in label_list:\n",
    "            label_list.append(label)"
   ]
  },
  {
   "cell_type": "code",
   "execution_count": 15,
   "metadata": {
    "collapsed": false
   },
   "outputs": [
    {
     "data": {
      "text/html": [
       "<div>\n",
       "<table border=\"1\" class=\"dataframe\">\n",
       "  <thead>\n",
       "    <tr style=\"text-align: right;\">\n",
       "      <th></th>\n",
       "      <th>image_name</th>\n",
       "      <th>tags</th>\n",
       "      <th>haze</th>\n",
       "      <th>primary</th>\n",
       "      <th>agriculture</th>\n",
       "      <th>clear</th>\n",
       "      <th>water</th>\n",
       "      <th>habitation</th>\n",
       "      <th>road</th>\n",
       "      <th>cultivation</th>\n",
       "      <th>slash_burn</th>\n",
       "      <th>cloudy</th>\n",
       "      <th>partly_cloudy</th>\n",
       "      <th>conventional_mine</th>\n",
       "      <th>bare_ground</th>\n",
       "      <th>artisinal_mine</th>\n",
       "      <th>blooming</th>\n",
       "      <th>selective_logging</th>\n",
       "      <th>blow_down</th>\n",
       "    </tr>\n",
       "  </thead>\n",
       "  <tbody>\n",
       "    <tr>\n",
       "      <th>0</th>\n",
       "      <td>train_0</td>\n",
       "      <td>haze primary</td>\n",
       "      <td>1</td>\n",
       "      <td>1</td>\n",
       "      <td>0</td>\n",
       "      <td>0</td>\n",
       "      <td>0</td>\n",
       "      <td>0</td>\n",
       "      <td>0</td>\n",
       "      <td>0</td>\n",
       "      <td>0</td>\n",
       "      <td>0</td>\n",
       "      <td>0</td>\n",
       "      <td>0</td>\n",
       "      <td>0</td>\n",
       "      <td>0</td>\n",
       "      <td>0</td>\n",
       "      <td>0</td>\n",
       "      <td>0</td>\n",
       "    </tr>\n",
       "    <tr>\n",
       "      <th>1</th>\n",
       "      <td>train_1</td>\n",
       "      <td>agriculture clear primary water</td>\n",
       "      <td>0</td>\n",
       "      <td>1</td>\n",
       "      <td>1</td>\n",
       "      <td>1</td>\n",
       "      <td>1</td>\n",
       "      <td>0</td>\n",
       "      <td>0</td>\n",
       "      <td>0</td>\n",
       "      <td>0</td>\n",
       "      <td>0</td>\n",
       "      <td>0</td>\n",
       "      <td>0</td>\n",
       "      <td>0</td>\n",
       "      <td>0</td>\n",
       "      <td>0</td>\n",
       "      <td>0</td>\n",
       "      <td>0</td>\n",
       "    </tr>\n",
       "    <tr>\n",
       "      <th>2</th>\n",
       "      <td>train_2</td>\n",
       "      <td>clear primary</td>\n",
       "      <td>0</td>\n",
       "      <td>1</td>\n",
       "      <td>0</td>\n",
       "      <td>1</td>\n",
       "      <td>0</td>\n",
       "      <td>0</td>\n",
       "      <td>0</td>\n",
       "      <td>0</td>\n",
       "      <td>0</td>\n",
       "      <td>0</td>\n",
       "      <td>0</td>\n",
       "      <td>0</td>\n",
       "      <td>0</td>\n",
       "      <td>0</td>\n",
       "      <td>0</td>\n",
       "      <td>0</td>\n",
       "      <td>0</td>\n",
       "    </tr>\n",
       "    <tr>\n",
       "      <th>3</th>\n",
       "      <td>train_3</td>\n",
       "      <td>clear primary</td>\n",
       "      <td>0</td>\n",
       "      <td>1</td>\n",
       "      <td>0</td>\n",
       "      <td>1</td>\n",
       "      <td>0</td>\n",
       "      <td>0</td>\n",
       "      <td>0</td>\n",
       "      <td>0</td>\n",
       "      <td>0</td>\n",
       "      <td>0</td>\n",
       "      <td>0</td>\n",
       "      <td>0</td>\n",
       "      <td>0</td>\n",
       "      <td>0</td>\n",
       "      <td>0</td>\n",
       "      <td>0</td>\n",
       "      <td>0</td>\n",
       "    </tr>\n",
       "    <tr>\n",
       "      <th>4</th>\n",
       "      <td>train_4</td>\n",
       "      <td>agriculture clear habitation primary road</td>\n",
       "      <td>0</td>\n",
       "      <td>1</td>\n",
       "      <td>1</td>\n",
       "      <td>1</td>\n",
       "      <td>0</td>\n",
       "      <td>1</td>\n",
       "      <td>1</td>\n",
       "      <td>0</td>\n",
       "      <td>0</td>\n",
       "      <td>0</td>\n",
       "      <td>0</td>\n",
       "      <td>0</td>\n",
       "      <td>0</td>\n",
       "      <td>0</td>\n",
       "      <td>0</td>\n",
       "      <td>0</td>\n",
       "      <td>0</td>\n",
       "    </tr>\n",
       "  </tbody>\n",
       "</table>\n",
       "</div>"
      ],
      "text/plain": [
       "  image_name                                       tags  haze  primary  \\\n",
       "0    train_0                               haze primary     1        1   \n",
       "1    train_1            agriculture clear primary water     0        1   \n",
       "2    train_2                              clear primary     0        1   \n",
       "3    train_3                              clear primary     0        1   \n",
       "4    train_4  agriculture clear habitation primary road     0        1   \n",
       "\n",
       "   agriculture  clear  water  habitation  road  cultivation  slash_burn  \\\n",
       "0            0      0      0           0     0            0           0   \n",
       "1            1      1      1           0     0            0           0   \n",
       "2            0      1      0           0     0            0           0   \n",
       "3            0      1      0           0     0            0           0   \n",
       "4            1      1      0           1     1            0           0   \n",
       "\n",
       "   cloudy  partly_cloudy  conventional_mine  bare_ground  artisinal_mine  \\\n",
       "0       0              0                  0            0               0   \n",
       "1       0              0                  0            0               0   \n",
       "2       0              0                  0            0               0   \n",
       "3       0              0                  0            0               0   \n",
       "4       0              0                  0            0               0   \n",
       "\n",
       "   blooming  selective_logging  blow_down  \n",
       "0         0                  0          0  \n",
       "1         0                  0          0  \n",
       "2         0                  0          0  \n",
       "3         0                  0          0  \n",
       "4         0                  0          0  "
      ]
     },
     "execution_count": 15,
     "metadata": {},
     "output_type": "execute_result"
    }
   ],
   "source": [
    "# Add onehot features for every label\n",
    "for label in label_list:\n",
    "    labels_df[label] = labels_df['tags'].apply(lambda x: 1 if label in x.split(' ') else 0)\n",
    "# Display head\n",
    "labels_df.head()"
   ]
  },
  {
   "cell_type": "code",
   "execution_count": 16,
   "metadata": {
    "collapsed": false
   },
   "outputs": [
    {
     "data": {
      "text/plain": [
       "<matplotlib.axes._subplots.AxesSubplot at 0x7f6fb710a080>"
      ]
     },
     "execution_count": 16,
     "metadata": {},
     "output_type": "execute_result"
    },
    {
     "data": {
      "image/png": "[encoded data removed]",
      "text/plain": [
       "<matplotlib.figure.Figure at 0x7f6fc5c3f320>"
      ]
     },
     "metadata": {},
     "output_type": "display_data"
    }
   ],
   "source": [
    "# Histogram of label instances\n",
    "labels_df[label_list].sum().sort_values().plot.bar()"
   ]
  },
  {
   "cell_type": "code",
   "execution_count": 17,
   "metadata": {
    "collapsed": false
   },
   "outputs": [
    {
     "data": {
      "text/html": [
       "<div>\n",
       "<table border=\"1\" class=\"dataframe\">\n",
       "  <thead>\n",
       "    <tr style=\"text-align: right;\">\n",
       "      <th></th>\n",
       "      <th>haze</th>\n",
       "      <th>primary</th>\n",
       "      <th>agriculture</th>\n",
       "      <th>clear</th>\n",
       "      <th>water</th>\n",
       "      <th>habitation</th>\n",
       "      <th>road</th>\n",
       "      <th>cultivation</th>\n",
       "      <th>slash_burn</th>\n",
       "      <th>cloudy</th>\n",
       "      <th>partly_cloudy</th>\n",
       "      <th>conventional_mine</th>\n",
       "      <th>bare_ground</th>\n",
       "      <th>artisinal_mine</th>\n",
       "      <th>blooming</th>\n",
       "      <th>selective_logging</th>\n",
       "      <th>blow_down</th>\n",
       "    </tr>\n",
       "  </thead>\n",
       "  <tbody>\n",
       "    <tr>\n",
       "      <th>haze</th>\n",
       "      <td>2697</td>\n",
       "      <td>2670</td>\n",
       "      <td>672</td>\n",
       "      <td>0</td>\n",
       "      <td>613</td>\n",
       "      <td>129</td>\n",
       "      <td>394</td>\n",
       "      <td>202</td>\n",
       "      <td>3</td>\n",
       "      <td>0</td>\n",
       "      <td>0</td>\n",
       "      <td>2</td>\n",
       "      <td>41</td>\n",
       "      <td>5</td>\n",
       "      <td>4</td>\n",
       "      <td>5</td>\n",
       "      <td>0</td>\n",
       "    </tr>\n",
       "    <tr>\n",
       "      <th>primary</th>\n",
       "      <td>2670</td>\n",
       "      <td>37513</td>\n",
       "      <td>11972</td>\n",
       "      <td>27668</td>\n",
       "      <td>7001</td>\n",
       "      <td>3469</td>\n",
       "      <td>7728</td>\n",
       "      <td>4455</td>\n",
       "      <td>209</td>\n",
       "      <td>0</td>\n",
       "      <td>7175</td>\n",
       "      <td>94</td>\n",
       "      <td>683</td>\n",
       "      <td>324</td>\n",
       "      <td>332</td>\n",
       "      <td>340</td>\n",
       "      <td>98</td>\n",
       "    </tr>\n",
       "    <tr>\n",
       "      <th>agriculture</th>\n",
       "      <td>672</td>\n",
       "      <td>11972</td>\n",
       "      <td>12315</td>\n",
       "      <td>9150</td>\n",
       "      <td>2712</td>\n",
       "      <td>2737</td>\n",
       "      <td>6034</td>\n",
       "      <td>3377</td>\n",
       "      <td>119</td>\n",
       "      <td>0</td>\n",
       "      <td>2493</td>\n",
       "      <td>24</td>\n",
       "      <td>225</td>\n",
       "      <td>38</td>\n",
       "      <td>32</td>\n",
       "      <td>65</td>\n",
       "      <td>22</td>\n",
       "    </tr>\n",
       "    <tr>\n",
       "      <th>clear</th>\n",
       "      <td>0</td>\n",
       "      <td>27668</td>\n",
       "      <td>9150</td>\n",
       "      <td>28431</td>\n",
       "      <td>5502</td>\n",
       "      <td>3090</td>\n",
       "      <td>6295</td>\n",
       "      <td>3527</td>\n",
       "      <td>173</td>\n",
       "      <td>0</td>\n",
       "      <td>0</td>\n",
       "      <td>70</td>\n",
       "      <td>747</td>\n",
       "      <td>307</td>\n",
       "      <td>311</td>\n",
       "      <td>308</td>\n",
       "      <td>85</td>\n",
       "    </tr>\n",
       "    <tr>\n",
       "      <th>water</th>\n",
       "      <td>613</td>\n",
       "      <td>7001</td>\n",
       "      <td>2712</td>\n",
       "      <td>5502</td>\n",
       "      <td>7411</td>\n",
       "      <td>915</td>\n",
       "      <td>2125</td>\n",
       "      <td>868</td>\n",
       "      <td>24</td>\n",
       "      <td>0</td>\n",
       "      <td>1295</td>\n",
       "      <td>26</td>\n",
       "      <td>206</td>\n",
       "      <td>299</td>\n",
       "      <td>16</td>\n",
       "      <td>49</td>\n",
       "      <td>3</td>\n",
       "    </tr>\n",
       "    <tr>\n",
       "      <th>habitation</th>\n",
       "      <td>129</td>\n",
       "      <td>3469</td>\n",
       "      <td>2737</td>\n",
       "      <td>3090</td>\n",
       "      <td>915</td>\n",
       "      <td>3660</td>\n",
       "      <td>2786</td>\n",
       "      <td>895</td>\n",
       "      <td>41</td>\n",
       "      <td>0</td>\n",
       "      <td>441</td>\n",
       "      <td>36</td>\n",
       "      <td>163</td>\n",
       "      <td>29</td>\n",
       "      <td>4</td>\n",
       "      <td>13</td>\n",
       "      <td>3</td>\n",
       "    </tr>\n",
       "    <tr>\n",
       "      <th>road</th>\n",
       "      <td>394</td>\n",
       "      <td>7728</td>\n",
       "      <td>6034</td>\n",
       "      <td>6295</td>\n",
       "      <td>2125</td>\n",
       "      <td>2786</td>\n",
       "      <td>8071</td>\n",
       "      <td>1294</td>\n",
       "      <td>36</td>\n",
       "      <td>0</td>\n",
       "      <td>1382</td>\n",
       "      <td>59</td>\n",
       "      <td>323</td>\n",
       "      <td>110</td>\n",
       "      <td>10</td>\n",
       "      <td>151</td>\n",
       "      <td>2</td>\n",
       "    </tr>\n",
       "    <tr>\n",
       "      <th>cultivation</th>\n",
       "      <td>202</td>\n",
       "      <td>4455</td>\n",
       "      <td>3377</td>\n",
       "      <td>3527</td>\n",
       "      <td>868</td>\n",
       "      <td>895</td>\n",
       "      <td>1294</td>\n",
       "      <td>4477</td>\n",
       "      <td>126</td>\n",
       "      <td>0</td>\n",
       "      <td>748</td>\n",
       "      <td>4</td>\n",
       "      <td>89</td>\n",
       "      <td>18</td>\n",
       "      <td>35</td>\n",
       "      <td>58</td>\n",
       "      <td>8</td>\n",
       "    </tr>\n",
       "    <tr>\n",
       "      <th>slash_burn</th>\n",
       "      <td>3</td>\n",
       "      <td>209</td>\n",
       "      <td>119</td>\n",
       "      <td>173</td>\n",
       "      <td>24</td>\n",
       "      <td>41</td>\n",
       "      <td>36</td>\n",
       "      <td>126</td>\n",
       "      <td>209</td>\n",
       "      <td>0</td>\n",
       "      <td>33</td>\n",
       "      <td>0</td>\n",
       "      <td>10</td>\n",
       "      <td>0</td>\n",
       "      <td>2</td>\n",
       "      <td>2</td>\n",
       "      <td>2</td>\n",
       "    </tr>\n",
       "    <tr>\n",
       "      <th>cloudy</th>\n",
       "      <td>0</td>\n",
       "      <td>0</td>\n",
       "      <td>0</td>\n",
       "      <td>0</td>\n",
       "      <td>0</td>\n",
       "      <td>0</td>\n",
       "      <td>0</td>\n",
       "      <td>0</td>\n",
       "      <td>0</td>\n",
       "      <td>2089</td>\n",
       "      <td>0</td>\n",
       "      <td>0</td>\n",
       "      <td>0</td>\n",
       "      <td>0</td>\n",
       "      <td>0</td>\n",
       "      <td>0</td>\n",
       "      <td>0</td>\n",
       "    </tr>\n",
       "    <tr>\n",
       "      <th>partly_cloudy</th>\n",
       "      <td>0</td>\n",
       "      <td>7175</td>\n",
       "      <td>2493</td>\n",
       "      <td>0</td>\n",
       "      <td>1295</td>\n",
       "      <td>441</td>\n",
       "      <td>1382</td>\n",
       "      <td>748</td>\n",
       "      <td>33</td>\n",
       "      <td>0</td>\n",
       "      <td>7261</td>\n",
       "      <td>28</td>\n",
       "      <td>74</td>\n",
       "      <td>27</td>\n",
       "      <td>17</td>\n",
       "      <td>27</td>\n",
       "      <td>13</td>\n",
       "    </tr>\n",
       "    <tr>\n",
       "      <th>conventional_mine</th>\n",
       "      <td>2</td>\n",
       "      <td>94</td>\n",
       "      <td>24</td>\n",
       "      <td>70</td>\n",
       "      <td>26</td>\n",
       "      <td>36</td>\n",
       "      <td>59</td>\n",
       "      <td>4</td>\n",
       "      <td>0</td>\n",
       "      <td>0</td>\n",
       "      <td>28</td>\n",
       "      <td>100</td>\n",
       "      <td>10</td>\n",
       "      <td>4</td>\n",
       "      <td>0</td>\n",
       "      <td>0</td>\n",
       "      <td>0</td>\n",
       "    </tr>\n",
       "    <tr>\n",
       "      <th>bare_ground</th>\n",
       "      <td>41</td>\n",
       "      <td>683</td>\n",
       "      <td>225</td>\n",
       "      <td>747</td>\n",
       "      <td>206</td>\n",
       "      <td>163</td>\n",
       "      <td>323</td>\n",
       "      <td>89</td>\n",
       "      <td>10</td>\n",
       "      <td>0</td>\n",
       "      <td>74</td>\n",
       "      <td>10</td>\n",
       "      <td>862</td>\n",
       "      <td>40</td>\n",
       "      <td>3</td>\n",
       "      <td>13</td>\n",
       "      <td>4</td>\n",
       "    </tr>\n",
       "    <tr>\n",
       "      <th>artisinal_mine</th>\n",
       "      <td>5</td>\n",
       "      <td>324</td>\n",
       "      <td>38</td>\n",
       "      <td>307</td>\n",
       "      <td>299</td>\n",
       "      <td>29</td>\n",
       "      <td>110</td>\n",
       "      <td>18</td>\n",
       "      <td>0</td>\n",
       "      <td>0</td>\n",
       "      <td>27</td>\n",
       "      <td>4</td>\n",
       "      <td>40</td>\n",
       "      <td>339</td>\n",
       "      <td>0</td>\n",
       "      <td>6</td>\n",
       "      <td>0</td>\n",
       "    </tr>\n",
       "    <tr>\n",
       "      <th>blooming</th>\n",
       "      <td>4</td>\n",
       "      <td>332</td>\n",
       "      <td>32</td>\n",
       "      <td>311</td>\n",
       "      <td>16</td>\n",
       "      <td>4</td>\n",
       "      <td>10</td>\n",
       "      <td>35</td>\n",
       "      <td>2</td>\n",
       "      <td>0</td>\n",
       "      <td>17</td>\n",
       "      <td>0</td>\n",
       "      <td>3</td>\n",
       "      <td>0</td>\n",
       "      <td>332</td>\n",
       "      <td>7</td>\n",
       "      <td>1</td>\n",
       "    </tr>\n",
       "    <tr>\n",
       "      <th>selective_logging</th>\n",
       "      <td>5</td>\n",
       "      <td>340</td>\n",
       "      <td>65</td>\n",
       "      <td>308</td>\n",
       "      <td>49</td>\n",
       "      <td>13</td>\n",
       "      <td>151</td>\n",
       "      <td>58</td>\n",
       "      <td>2</td>\n",
       "      <td>0</td>\n",
       "      <td>27</td>\n",
       "      <td>0</td>\n",
       "      <td>13</td>\n",
       "      <td>6</td>\n",
       "      <td>7</td>\n",
       "      <td>340</td>\n",
       "      <td>1</td>\n",
       "    </tr>\n",
       "    <tr>\n",
       "      <th>blow_down</th>\n",
       "      <td>0</td>\n",
       "      <td>98</td>\n",
       "      <td>22</td>\n",
       "      <td>85</td>\n",
       "      <td>3</td>\n",
       "      <td>3</td>\n",
       "      <td>2</td>\n",
       "      <td>8</td>\n",
       "      <td>2</td>\n",
       "      <td>0</td>\n",
       "      <td>13</td>\n",
       "      <td>0</td>\n",
       "      <td>4</td>\n",
       "      <td>0</td>\n",
       "      <td>1</td>\n",
       "      <td>1</td>\n",
       "      <td>98</td>\n",
       "    </tr>\n",
       "  </tbody>\n",
       "</table>\n",
       "</div>"
      ],
      "text/plain": [
       "                   haze  primary  agriculture  clear  water  habitation  road  \\\n",
       "haze               2697     2670          672      0    613         129   394   \n",
       "primary            2670    37513        11972  27668   7001        3469  7728   \n",
       "agriculture         672    11972        12315   9150   2712        2737  6034   \n",
       "clear                 0    27668         9150  28431   5502        3090  6295   \n",
       "water               613     7001         2712   5502   7411         915  2125   \n",
       "habitation          129     3469         2737   3090    915        3660  2786   \n",
       "road                394     7728         6034   6295   2125        2786  8071   \n",
       "cultivation         202     4455         3377   3527    868         895  1294   \n",
       "slash_burn            3      209          119    173     24          41    36   \n",
       "cloudy                0        0            0      0      0           0     0   \n",
       "partly_cloudy         0     7175         2493      0   1295         441  1382   \n",
       "conventional_mine     2       94           24     70     26          36    59   \n",
       "bare_ground          41      683          225    747    206         163   323   \n",
       "artisinal_mine        5      324           38    307    299          29   110   \n",
       "blooming              4      332           32    311     16           4    10   \n",
       "selective_logging     5      340           65    308     49          13   151   \n",
       "blow_down             0       98           22     85      3           3     2   \n",
       "\n",
       "                   cultivation  slash_burn  cloudy  partly_cloudy  \\\n",
       "haze                       202           3       0              0   \n",
       "primary                   4455         209       0           7175   \n",
       "agriculture               3377         119       0           2493   \n",
       "clear                     3527         173       0              0   \n",
       "water                      868          24       0           1295   \n",
       "habitation                 895          41       0            441   \n",
       "road                      1294          36       0           1382   \n",
       "cultivation               4477         126       0            748   \n",
       "slash_burn                 126         209       0             33   \n",
       "cloudy                       0           0    2089              0   \n",
       "partly_cloudy              748          33       0           7261   \n",
       "conventional_mine            4           0       0             28   \n",
       "bare_ground                 89          10       0             74   \n",
       "artisinal_mine              18           0       0             27   \n",
       "blooming                    35           2       0             17   \n",
       "selective_logging           58           2       0             27   \n",
       "blow_down                    8           2       0             13   \n",
       "\n",
       "                   conventional_mine  bare_ground  artisinal_mine  blooming  \\\n",
       "haze                               2           41               5         4   \n",
       "primary                           94          683             324       332   \n",
       "agriculture                       24          225              38        32   \n",
       "clear                             70          747             307       311   \n",
       "water                             26          206             299        16   \n",
       "habitation                        36          163              29         4   \n",
       "road                              59          323             110        10   \n",
       "cultivation                        4           89              18        35   \n",
       "slash_burn                         0           10               0         2   \n",
       "cloudy                             0            0               0         0   \n",
       "partly_cloudy                     28           74              27        17   \n",
       "conventional_mine                100           10               4         0   \n",
       "bare_ground                       10          862              40         3   \n",
       "artisinal_mine                     4           40             339         0   \n",
       "blooming                           0            3               0       332   \n",
       "selective_logging                  0           13               6         7   \n",
       "blow_down                          0            4               0         1   \n",
       "\n",
       "                   selective_logging  blow_down  \n",
       "haze                               5          0  \n",
       "primary                          340         98  \n",
       "agriculture                       65         22  \n",
       "clear                            308         85  \n",
       "water                             49          3  \n",
       "habitation                        13          3  \n",
       "road                             151          2  \n",
       "cultivation                       58          8  \n",
       "slash_burn                         2          2  \n",
       "cloudy                             0          0  \n",
       "partly_cloudy                     27         13  \n",
       "conventional_mine                  0          0  \n",
       "bare_ground                       13          4  \n",
       "artisinal_mine                     6          0  \n",
       "blooming                           7          1  \n",
       "selective_logging                340          1  \n",
       "blow_down                          1         98  "
      ]
     },
     "execution_count": 17,
     "metadata": {},
     "output_type": "execute_result"
    },
    {
     "data": {
      "image/png": "[encoded data removed]",
      "text/plain": [
       "<matplotlib.figure.Figure at 0x7f6fb6fc34a8>"
      ]
     },
     "metadata": {},
     "output_type": "display_data"
    }
   ],
   "source": [
    "def make_cooccurence_matrix(labels):\n",
    "    numeric_df = labels_df[labels]; \n",
    "    c_matrix = numeric_df.T.dot(numeric_df)\n",
    "    sns.heatmap(c_matrix)\n",
    "    return c_matrix\n",
    "    \n",
    "# Compute the co-ocurrence matrix\n",
    "make_cooccurence_matrix(label_list)"
   ]
  },
  {
   "cell_type": "markdown",
   "metadata": {},
   "source": [
    "Each image should have exactly one weather label:"
   ]
  },
  {
   "cell_type": "code",
   "execution_count": 18,
   "metadata": {
    "collapsed": false
   },
   "outputs": [
    {
     "data": {
      "text/html": [
       "<div>\n",
       "<table border=\"1\" class=\"dataframe\">\n",
       "  <thead>\n",
       "    <tr style=\"text-align: right;\">\n",
       "      <th></th>\n",
       "      <th>clear</th>\n",
       "      <th>partly_cloudy</th>\n",
       "      <th>haze</th>\n",
       "      <th>cloudy</th>\n",
       "    </tr>\n",
       "  </thead>\n",
       "  <tbody>\n",
       "    <tr>\n",
       "      <th>clear</th>\n",
       "      <td>28431</td>\n",
       "      <td>0</td>\n",
       "      <td>0</td>\n",
       "      <td>0</td>\n",
       "    </tr>\n",
       "    <tr>\n",
       "      <th>partly_cloudy</th>\n",
       "      <td>0</td>\n",
       "      <td>7261</td>\n",
       "      <td>0</td>\n",
       "      <td>0</td>\n",
       "    </tr>\n",
       "    <tr>\n",
       "      <th>haze</th>\n",
       "      <td>0</td>\n",
       "      <td>0</td>\n",
       "      <td>2697</td>\n",
       "      <td>0</td>\n",
       "    </tr>\n",
       "    <tr>\n",
       "      <th>cloudy</th>\n",
       "      <td>0</td>\n",
       "      <td>0</td>\n",
       "      <td>0</td>\n",
       "      <td>2089</td>\n",
       "    </tr>\n",
       "  </tbody>\n",
       "</table>\n",
       "</div>"
      ],
      "text/plain": [
       "               clear  partly_cloudy  haze  cloudy\n",
       "clear          28431              0     0       0\n",
       "partly_cloudy      0           7261     0       0\n",
       "haze               0              0  2697       0\n",
       "cloudy             0              0     0    2089"
      ]
     },
     "execution_count": 18,
     "metadata": {},
     "output_type": "execute_result"
    },
    {
     "data": {
      "image/png": "[encoded data removed]",
      "text/plain": [
       "<matplotlib.figure.Figure at 0x7f6fb6e01f60>"
      ]
     },
     "metadata": {},
     "output_type": "display_data"
    }
   ],
   "source": [
    "weather_labels = ['clear', 'partly_cloudy', 'haze', 'cloudy']\n",
    "make_cooccurence_matrix(weather_labels)"
   ]
  },
  {
   "cell_type": "markdown",
   "metadata": {},
   "source": [
    "But the land labels may overlap:"
   ]
  },
  {
   "cell_type": "code",
   "execution_count": 19,
   "metadata": {
    "collapsed": false
   },
   "outputs": [
    {
     "data": {
      "text/html": [
       "<div>\n",
       "<table border=\"1\" class=\"dataframe\">\n",
       "  <thead>\n",
       "    <tr style=\"text-align: right;\">\n",
       "      <th></th>\n",
       "      <th>primary</th>\n",
       "      <th>agriculture</th>\n",
       "      <th>water</th>\n",
       "      <th>cultivation</th>\n",
       "      <th>habitation</th>\n",
       "    </tr>\n",
       "  </thead>\n",
       "  <tbody>\n",
       "    <tr>\n",
       "      <th>primary</th>\n",
       "      <td>37513</td>\n",
       "      <td>11972</td>\n",
       "      <td>7001</td>\n",
       "      <td>4455</td>\n",
       "      <td>3469</td>\n",
       "    </tr>\n",
       "    <tr>\n",
       "      <th>agriculture</th>\n",
       "      <td>11972</td>\n",
       "      <td>12315</td>\n",
       "      <td>2712</td>\n",
       "      <td>3377</td>\n",
       "      <td>2737</td>\n",
       "    </tr>\n",
       "    <tr>\n",
       "      <th>water</th>\n",
       "      <td>7001</td>\n",
       "      <td>2712</td>\n",
       "      <td>7411</td>\n",
       "      <td>868</td>\n",
       "      <td>915</td>\n",
       "    </tr>\n",
       "    <tr>\n",
       "      <th>cultivation</th>\n",
       "      <td>4455</td>\n",
       "      <td>3377</td>\n",
       "      <td>868</td>\n",
       "      <td>4477</td>\n",
       "      <td>895</td>\n",
       "    </tr>\n",
       "    <tr>\n",
       "      <th>habitation</th>\n",
       "      <td>3469</td>\n",
       "      <td>2737</td>\n",
       "      <td>915</td>\n",
       "      <td>895</td>\n",
       "      <td>3660</td>\n",
       "    </tr>\n",
       "  </tbody>\n",
       "</table>\n",
       "</div>"
      ],
      "text/plain": [
       "             primary  agriculture  water  cultivation  habitation\n",
       "primary        37513        11972   7001         4455        3469\n",
       "agriculture    11972        12315   2712         3377        2737\n",
       "water           7001         2712   7411          868         915\n",
       "cultivation     4455         3377    868         4477         895\n",
       "habitation      3469         2737    915          895        3660"
      ]
     },
     "execution_count": 19,
     "metadata": {},
     "output_type": "execute_result"
    },
    {
     "data": {
      "image/png": "[encoded data removed]",
      "text/plain": [
       "<matplotlib.figure.Figure at 0x7f6fb6e30cf8>"
      ]
     },
     "metadata": {},
     "output_type": "display_data"
    }
   ],
   "source": [
    "land_labels = ['primary', 'agriculture', 'water', 'cultivation', 'habitation']\n",
    "make_cooccurence_matrix(land_labels)"
   ]
  },
  {
   "cell_type": "markdown",
   "metadata": {},
   "source": [
    "The rarer labels have very little overlap:"
   ]
  },
  {
   "cell_type": "code",
   "execution_count": 20,
   "metadata": {
    "collapsed": false
   },
   "outputs": [
    {
     "data": {
      "text/html": [
       "<div>\n",
       "<table border=\"1\" class=\"dataframe\">\n",
       "  <thead>\n",
       "    <tr style=\"text-align: right;\">\n",
       "      <th></th>\n",
       "      <th>slash_burn</th>\n",
       "      <th>conventional_mine</th>\n",
       "      <th>bare_ground</th>\n",
       "      <th>artisinal_mine</th>\n",
       "      <th>blooming</th>\n",
       "      <th>selective_logging</th>\n",
       "      <th>blow_down</th>\n",
       "    </tr>\n",
       "  </thead>\n",
       "  <tbody>\n",
       "    <tr>\n",
       "      <th>slash_burn</th>\n",
       "      <td>209</td>\n",
       "      <td>0</td>\n",
       "      <td>10</td>\n",
       "      <td>0</td>\n",
       "      <td>2</td>\n",
       "      <td>2</td>\n",
       "      <td>2</td>\n",
       "    </tr>\n",
       "    <tr>\n",
       "      <th>conventional_mine</th>\n",
       "      <td>0</td>\n",
       "      <td>100</td>\n",
       "      <td>10</td>\n",
       "      <td>4</td>\n",
       "      <td>0</td>\n",
       "      <td>0</td>\n",
       "      <td>0</td>\n",
       "    </tr>\n",
       "    <tr>\n",
       "      <th>bare_ground</th>\n",
       "      <td>10</td>\n",
       "      <td>10</td>\n",
       "      <td>862</td>\n",
       "      <td>40</td>\n",
       "      <td>3</td>\n",
       "      <td>13</td>\n",
       "      <td>4</td>\n",
       "    </tr>\n",
       "    <tr>\n",
       "      <th>artisinal_mine</th>\n",
       "      <td>0</td>\n",
       "      <td>4</td>\n",
       "      <td>40</td>\n",
       "      <td>339</td>\n",
       "      <td>0</td>\n",
       "      <td>6</td>\n",
       "      <td>0</td>\n",
       "    </tr>\n",
       "    <tr>\n",
       "      <th>blooming</th>\n",
       "      <td>2</td>\n",
       "      <td>0</td>\n",
       "      <td>3</td>\n",
       "      <td>0</td>\n",
       "      <td>332</td>\n",
       "      <td>7</td>\n",
       "      <td>1</td>\n",
       "    </tr>\n",
       "    <tr>\n",
       "      <th>selective_logging</th>\n",
       "      <td>2</td>\n",
       "      <td>0</td>\n",
       "      <td>13</td>\n",
       "      <td>6</td>\n",
       "      <td>7</td>\n",
       "      <td>340</td>\n",
       "      <td>1</td>\n",
       "    </tr>\n",
       "    <tr>\n",
       "      <th>blow_down</th>\n",
       "      <td>2</td>\n",
       "      <td>0</td>\n",
       "      <td>4</td>\n",
       "      <td>0</td>\n",
       "      <td>1</td>\n",
       "      <td>1</td>\n",
       "      <td>98</td>\n",
       "    </tr>\n",
       "  </tbody>\n",
       "</table>\n",
       "</div>"
      ],
      "text/plain": [
       "                   slash_burn  conventional_mine  bare_ground  artisinal_mine  \\\n",
       "slash_burn                209                  0           10               0   \n",
       "conventional_mine           0                100           10               4   \n",
       "bare_ground                10                 10          862              40   \n",
       "artisinal_mine              0                  4           40             339   \n",
       "blooming                    2                  0            3               0   \n",
       "selective_logging           2                  0           13               6   \n",
       "blow_down                   2                  0            4               0   \n",
       "\n",
       "                   blooming  selective_logging  blow_down  \n",
       "slash_burn                2                  2          2  \n",
       "conventional_mine         0                  0          0  \n",
       "bare_ground               3                 13          4  \n",
       "artisinal_mine            0                  6          0  \n",
       "blooming                332                  7          1  \n",
       "selective_logging         7                340          1  \n",
       "blow_down                 1                  1         98  "
      ]
     },
     "execution_count": 20,
     "metadata": {},
     "output_type": "execute_result"
    },
    {
     "data": {
      "image/png": "[encoded data removed]",
      "text/plain": [
       "<matplotlib.figure.Figure at 0x7f6fb6db6588>"
      ]
     },
     "metadata": {},
     "output_type": "display_data"
    }
   ],
   "source": [
    "rare_labels = [l for l in label_list if labels_df[label_list].sum()[l] < 2000]\n",
    "make_cooccurence_matrix(rare_labels)"
   ]
  },
  {
   "cell_type": "markdown",
   "metadata": {},
   "source": [
    "## Inspect images\n",
    "Let's display an image and visualize the pixel values. Here we will pick an image, load every single single band, then create RGB stack. These raw images are 16-bit (from 0 to 65535), and contain red, green, blue, and [Near infrared (NIR)](https://en.wikipedia.org/wiki/Infrared#Regions_within_the_infrared) channels. In this example, we are discarding the NIR band just to simplify the steps to visualize the image. However, you should probably keep it for ML classification.\n",
    "\n",
    "The files can be easily read into numpy arrays with the skimage."
   ]
  },
  {
   "cell_type": "code",
   "execution_count": 21,
   "metadata": {
    "collapsed": true
   },
   "outputs": [],
   "source": [
    "def sample_images(tags, n=None):\n",
    "    \"\"\"Randomly sample n images with the specified tags.\"\"\"\n",
    "    condition = True\n",
    "    if isinstance(tags, string_types):\n",
    "        raise ValueError(\"Pass a list of tags, not a single tag.\")\n",
    "    for tag in tags:\n",
    "        condition = condition & labels_df[tag] == 1\n",
    "    if n is not None:\n",
    "        return labels_df[condition].sample(n)\n",
    "    else:\n",
    "        return labels_df[condition]"
   ]
  },
  {
   "cell_type": "code",
   "execution_count": 25,
   "metadata": {
    "collapsed": true
   },
   "outputs": [],
   "source": [
    "def load_image(filename):\n",
    "    '''Look through the directory tree to find the image you specified\n",
    "    (e.g. train_10.tif vs. train_10.jpg)'''\n",
    "    for dirname in os.listdir(PLANET_KAGGLE_ROOT):\n",
    "        path = os.path.abspath(os.path.join(PLANET_KAGGLE_ROOT, dirname, filename))\n",
    "        if os.path.exists(path):\n",
    "            print('Found image {}'.format(path))\n",
    "            return io.imread(path)\n",
    "    # if you reach this line, you didn't find the image you're looking for\n",
    "    print('Load failed: could not find image {}'.format(path))\n",
    "\n",
    "suffix_ext = 'jpg' #tif\n",
    "    \n",
    "def sample_to_fname(sample_df, row_idx, suffix=suffix_ext):\n",
    "    '''Given a dataframe of sampled images, get the\n",
    "    corresponding filename.'''\n",
    "    fname = sample_df.get_value(sample_df.index[row_idx], 'image_name')\n",
    "    return '{}.{}'.format(fname, suffix)"
   ]
  },
  {
   "cell_type": "markdown",
   "metadata": {},
   "source": [
    "Let's look at an individual image. First, we'll plot a histogram of pixel values in each channel. Note how the intensities are distributed in a relatively narrow region of the dynamic range"
   ]
  },
  {
   "cell_type": "code",
   "execution_count": 26,
   "metadata": {
    "collapsed": true
   },
   "outputs": [],
   "source": [
    "def plot_rgbn_histo(r, g, b, n):\n",
    "    for slice_, name, color in ((r,'r', 'red'),(g,'g', 'green'),(b,'b', 'blue'), (nir, 'nir', 'magenta')):\n",
    "        plt.hist(slice_.ravel(), bins=100, \n",
    "                 range=[0,rgb_image.max()], \n",
    "                 label=name, color=color, histtype='step')\n",
    "    plt.legend()"
   ]
  },
  {
   "cell_type": "code",
   "execution_count": 28,
   "metadata": {
    "collapsed": false
   },
   "outputs": [
    {
     "name": "stdout",
     "output_type": "stream",
     "text": [
      "Found image /tmp/working/Documents/projects/kaggle-df-amazon/input/train-jpg/train_8934.jpg\n"
     ]
    },
    {
     "ename": "IndexError",
     "evalue": "index 3 is out of bounds for axis 2 with size 3",
     "output_type": "error",
     "traceback": [
      "\u001b[0;31m---------------------------------------------------------------------------\u001b[0m",
      "\u001b[0;31mIndexError\u001b[0m                                Traceback (most recent call last)",
      "\u001b[0;32m<ipython-input-28-2b8ced923e39>\u001b[0m in \u001b[0;36m<module>\u001b[0;34m()\u001b[0m\n\u001b[1;32m     11\u001b[0m \u001b[0;34m\u001b[0m\u001b[0m\n\u001b[1;32m     12\u001b[0m \u001b[0;31m# extract the different bands\u001b[0m\u001b[0;34m\u001b[0m\u001b[0;34m\u001b[0m\u001b[0m\n\u001b[0;32m---> 13\u001b[0;31m \u001b[0mb\u001b[0m\u001b[0;34m,\u001b[0m \u001b[0mg\u001b[0m\u001b[0;34m,\u001b[0m \u001b[0mr\u001b[0m\u001b[0;34m,\u001b[0m \u001b[0mnir\u001b[0m \u001b[0;34m=\u001b[0m \u001b[0mbgrn_image\u001b[0m\u001b[0;34m[\u001b[0m\u001b[0;34m:\u001b[0m\u001b[0;34m,\u001b[0m \u001b[0;34m:\u001b[0m\u001b[0;34m,\u001b[0m \u001b[0;36m0\u001b[0m\u001b[0;34m]\u001b[0m\u001b[0;34m,\u001b[0m \u001b[0mbgrn_image\u001b[0m\u001b[0;34m[\u001b[0m\u001b[0;34m:\u001b[0m\u001b[0;34m,\u001b[0m \u001b[0;34m:\u001b[0m\u001b[0;34m,\u001b[0m \u001b[0;36m1\u001b[0m\u001b[0;34m]\u001b[0m\u001b[0;34m,\u001b[0m \u001b[0mbgrn_image\u001b[0m\u001b[0;34m[\u001b[0m\u001b[0;34m:\u001b[0m\u001b[0;34m,\u001b[0m \u001b[0;34m:\u001b[0m\u001b[0;34m,\u001b[0m \u001b[0;36m2\u001b[0m\u001b[0;34m]\u001b[0m\u001b[0;34m,\u001b[0m \u001b[0mbgrn_image\u001b[0m\u001b[0;34m[\u001b[0m\u001b[0;34m:\u001b[0m\u001b[0;34m,\u001b[0m \u001b[0;34m:\u001b[0m\u001b[0;34m,\u001b[0m \u001b[0;36m3\u001b[0m\u001b[0;34m]\u001b[0m\u001b[0;34m\u001b[0m\u001b[0m\n\u001b[0m\u001b[1;32m     14\u001b[0m \u001b[0;34m\u001b[0m\u001b[0m\n\u001b[1;32m     15\u001b[0m \u001b[0;31m# plot a histogram of rgbn values\u001b[0m\u001b[0;34m\u001b[0m\u001b[0;34m\u001b[0m\u001b[0m\n",
      "\u001b[0;31mIndexError\u001b[0m: index 3 is out of bounds for axis 2 with size 3"
     ]
    }
   ],
   "source": [
    "s = sample_images(['primary', 'water', 'road'], n=1)\n",
    "fname = sample_to_fname(s, 0)\n",
    "\n",
    "# find the image in the data directory and load it\n",
    "# note the initial bgrn band ordering\n",
    "bgrn_image = load_image(fname)\n",
    "\n",
    "# extract the rgb values\n",
    "bgr_image = bgrn_image[:,:,:3]\n",
    "rgb_image = bgr_image[:, :, [2,1,0]]\n",
    "\n",
    "# extract the different bands\n",
    "b, g, r, nir = bgrn_image[:, :, 0], bgrn_image[:, :, 1], bgrn_image[:, :, 2], bgrn_image[:, :, 3]\n",
    "\n",
    "# plot a histogram of rgbn values\n",
    "plot_rgbn_histo(r, g, b, nir)"
   ]
  },
  {
   "cell_type": "markdown",
   "metadata": {},
   "source": [
    "We can look at each channel individually:"
   ]
  },
  {
   "cell_type": "code",
   "execution_count": 29,
   "metadata": {
    "collapsed": false
   },
   "outputs": [
    {
     "ename": "NameError",
     "evalue": "name 'r' is not defined",
     "output_type": "error",
     "traceback": [
      "\u001b[0;31m---------------------------------------------------------------------------\u001b[0m",
      "\u001b[0;31mNameError\u001b[0m                                 Traceback (most recent call last)",
      "\u001b[0;32m<ipython-input-29-12c69356bc54>\u001b[0m in \u001b[0;36m<module>\u001b[0;34m()\u001b[0m\n\u001b[1;32m      2\u001b[0m \u001b[0mfig\u001b[0m \u001b[0;34m=\u001b[0m \u001b[0mplt\u001b[0m\u001b[0;34m.\u001b[0m\u001b[0mfigure\u001b[0m\u001b[0;34m(\u001b[0m\u001b[0;34m)\u001b[0m\u001b[0;34m\u001b[0m\u001b[0m\n\u001b[1;32m      3\u001b[0m \u001b[0mfig\u001b[0m\u001b[0;34m.\u001b[0m\u001b[0mset_size_inches\u001b[0m\u001b[0;34m(\u001b[0m\u001b[0;36m12\u001b[0m\u001b[0;34m,\u001b[0m \u001b[0;36m4\u001b[0m\u001b[0;34m)\u001b[0m\u001b[0;34m\u001b[0m\u001b[0m\n\u001b[0;32m----> 4\u001b[0;31m \u001b[0;32mfor\u001b[0m \u001b[0mi\u001b[0m\u001b[0;34m,\u001b[0m \u001b[0;34m(\u001b[0m\u001b[0mx\u001b[0m\u001b[0;34m,\u001b[0m \u001b[0mc\u001b[0m\u001b[0;34m)\u001b[0m \u001b[0;32min\u001b[0m \u001b[0menumerate\u001b[0m\u001b[0;34m(\u001b[0m\u001b[0;34m(\u001b[0m\u001b[0;34m(\u001b[0m\u001b[0mr\u001b[0m\u001b[0;34m,\u001b[0m \u001b[0;34m'r'\u001b[0m\u001b[0;34m)\u001b[0m\u001b[0;34m,\u001b[0m \u001b[0;34m(\u001b[0m\u001b[0mg\u001b[0m\u001b[0;34m,\u001b[0m \u001b[0;34m'g'\u001b[0m\u001b[0;34m)\u001b[0m\u001b[0;34m,\u001b[0m \u001b[0;34m(\u001b[0m\u001b[0mb\u001b[0m\u001b[0;34m,\u001b[0m \u001b[0;34m'b'\u001b[0m\u001b[0;34m)\u001b[0m\u001b[0;34m,\u001b[0m \u001b[0;34m(\u001b[0m\u001b[0mnir\u001b[0m\u001b[0;34m,\u001b[0m \u001b[0;34m'near-ir'\u001b[0m\u001b[0;34m)\u001b[0m\u001b[0;34m)\u001b[0m\u001b[0;34m)\u001b[0m\u001b[0;34m:\u001b[0m\u001b[0;34m\u001b[0m\u001b[0m\n\u001b[0m\u001b[1;32m      5\u001b[0m     \u001b[0ma\u001b[0m \u001b[0;34m=\u001b[0m \u001b[0mfig\u001b[0m\u001b[0;34m.\u001b[0m\u001b[0madd_subplot\u001b[0m\u001b[0;34m(\u001b[0m\u001b[0;36m1\u001b[0m\u001b[0;34m,\u001b[0m \u001b[0;36m4\u001b[0m\u001b[0;34m,\u001b[0m \u001b[0mi\u001b[0m\u001b[0;34m+\u001b[0m\u001b[0;36m1\u001b[0m\u001b[0;34m)\u001b[0m\u001b[0;34m\u001b[0m\u001b[0m\n\u001b[1;32m      6\u001b[0m     \u001b[0ma\u001b[0m\u001b[0;34m.\u001b[0m\u001b[0mset_title\u001b[0m\u001b[0;34m(\u001b[0m\u001b[0mc\u001b[0m\u001b[0;34m)\u001b[0m\u001b[0;34m\u001b[0m\u001b[0m\n",
      "\u001b[0;31mNameError\u001b[0m: name 'r' is not defined"
     ]
    },
    {
     "data": {
      "text/plain": [
       "<matplotlib.figure.Figure at 0x7f6fb6ee3048>"
      ]
     },
     "metadata": {},
     "output_type": "display_data"
    }
   ],
   "source": [
    "# Plot the bands\n",
    "fig = plt.figure()\n",
    "fig.set_size_inches(12, 4)\n",
    "for i, (x, c) in enumerate(((r, 'r'), (g, 'g'), (b, 'b'), (nir, 'near-ir'))):\n",
    "    a = fig.add_subplot(1, 4, i+1)\n",
    "    a.set_title(c)\n",
    "    plt.imshow(x)"
   ]
  },
  {
   "cell_type": "markdown",
   "metadata": {},
   "source": [
    "But, when we try to look at the RGB image, something funny's going on!|"
   ]
  },
  {
   "cell_type": "code",
   "execution_count": null,
   "metadata": {
    "collapsed": true
   },
   "outputs": [],
   "source": [
    "plt.imshow(rgb_image)"
   ]
  },
  {
   "cell_type": "markdown",
   "metadata": {},
   "source": [
    "### Calibrate colors for visual inspection"
   ]
  },
  {
   "cell_type": "markdown",
   "metadata": {},
   "source": [
    "Yikes! That does not look pretty. This is not a problem for analytic purposes, but we can try some transformations to make the image look better for visual inspection.\n",
    "\n",
    "One way of doing this is to normalize the image channels to a reference color curve. We'll show here how to estimate a reference color curve from other normalized images. We could choose a third party aerial image of a canopy , but here we will employ the JPEG images provided in the data set, which have already been color-corrected.  \n",
    "\n",
    "In essence, the idea is to transform the pixel values of the test image so that their average and variance match the reference image data.\n",
    "\n",
    "Get a list of reference images to extract data from:"
   ]
  },
  {
   "cell_type": "code",
   "execution_count": null,
   "metadata": {
    "collapsed": true
   },
   "outputs": [],
   "source": [
    "# Pull a list of 20000 image names\n",
    "jpg_list = os.listdir(PLANET_KAGGLE_JPEG_DIR)[:20000]\n",
    "# Select a random sample of 100 among those\n",
    "np.random.shuffle(jpg_list)\n",
    "jpg_list = jpg_list[:100]"
   ]
  },
  {
   "cell_type": "code",
   "execution_count": null,
   "metadata": {
    "collapsed": true
   },
   "outputs": [],
   "source": [
    "print(jpg_list)"
   ]
  },
  {
   "cell_type": "markdown",
   "metadata": {},
   "source": [
    "Read each image (8-bit RGBA) and dump the pixels values to ref_colors, which contains buckets for R, G and B"
   ]
  },
  {
   "cell_type": "code",
   "execution_count": null,
   "metadata": {
    "collapsed": true
   },
   "outputs": [],
   "source": [
    "ref_colors = [[],[],[]]\n",
    "for _file in jpg_list:\n",
    "    # keep only the first 3 bands, RGB\n",
    "    _img = mpimg.imread(os.path.join(PLANET_KAGGLE_JPEG_DIR, _file))[:,:,:3]\n",
    "    # Flatten 2-D to 1-D\n",
    "    _data = _img.reshape((-1,3))\n",
    "    # Dump pixel values to aggregation buckets\n",
    "    for i in range(3): \n",
    "        ref_colors[i] = ref_colors[i] + _data[:,i].tolist()\n",
    "    \n",
    "ref_colors = np.array(ref_colors)"
   ]
  },
  {
   "cell_type": "markdown",
   "metadata": {},
   "source": [
    "Visualize the histogram of the reference data"
   ]
  },
  {
   "cell_type": "code",
   "execution_count": null,
   "metadata": {
    "collapsed": true
   },
   "outputs": [],
   "source": [
    "for i,color in enumerate(['r','g','b']):\n",
    "    plt.hist(ref_colors[i], bins=30, range=[0,255], label=color, color=color, histtype='step')\n",
    "plt.legend()\n",
    "plt.title('Reference color histograms')"
   ]
  },
  {
   "cell_type": "markdown",
   "metadata": {},
   "source": [
    "Compute the mean and variance for each channel in the reference data"
   ]
  },
  {
   "cell_type": "code",
   "execution_count": null,
   "metadata": {
    "collapsed": true
   },
   "outputs": [],
   "source": [
    "ref_means = [np.mean(ref_colors[i]) for i in range(3)]\n",
    "ref_stds = [np.std(ref_colors[i]) for i in range(3)]"
   ]
  },
  {
   "cell_type": "markdown",
   "metadata": {},
   "source": [
    "And now, we have a function that can calibrate any raw image reasonably well:"
   ]
  },
  {
   "cell_type": "code",
   "execution_count": null,
   "metadata": {
    "collapsed": true
   },
   "outputs": [],
   "source": [
    "def calibrate_image(rgb_image):\n",
    "    # Transform test image to 32-bit floats to avoid \n",
    "    # surprises when doing arithmetic with it \n",
    "    calibrated_img = rgb_image.copy().astype('float32')\n",
    "\n",
    "    # Loop over RGB\n",
    "    for i in range(3):\n",
    "        # Subtract mean \n",
    "        calibrated_img[:,:,i] = calibrated_img[:,:,i]-np.mean(calibrated_img[:,:,i])\n",
    "        # Normalize variance\n",
    "        calibrated_img[:,:,i] = calibrated_img[:,:,i]/np.std(calibrated_img[:,:,i])\n",
    "        # Scale to reference \n",
    "        calibrated_img[:,:,i] = calibrated_img[:,:,i]*ref_stds[i] + ref_means[i]\n",
    "        # Clip any values going out of the valid range\n",
    "        calibrated_img[:,:,i] = np.clip(calibrated_img[:,:,i],0,255)\n",
    "\n",
    "    # Convert to 8-bit unsigned int\n",
    "    return calibrated_img.astype('uint8')"
   ]
  },
  {
   "cell_type": "markdown",
   "metadata": {},
   "source": [
    "Visualize the color histogram of the newly calibrated test image, and note that it's more evenly distributed throughout the dynamic range, and is closer to the reference data."
   ]
  },
  {
   "cell_type": "code",
   "execution_count": null,
   "metadata": {
    "collapsed": true
   },
   "outputs": [],
   "source": [
    "test_image_calibrated = calibrate_image(rgb_image)\n",
    "for i,color in enumerate(['r','g','b']):\n",
    "    plt.hist(test_image_calibrated[:,:,i].ravel(), bins=30, range=[0,255], \n",
    "             label=color, color=color, histtype='step')\n",
    "plt.legend()\n",
    "plt.title('Calibrated image color histograms')"
   ]
  },
  {
   "cell_type": "markdown",
   "metadata": {},
   "source": [
    "And now we have something we can recognize!"
   ]
  },
  {
   "cell_type": "code",
   "execution_count": null,
   "metadata": {
    "collapsed": true
   },
   "outputs": [],
   "source": [
    "plt.imshow(test_image_calibrated)"
   ]
  },
  {
   "cell_type": "markdown",
   "metadata": {},
   "source": [
    "Putting it all together, to show several images with your tags of choice. You may notice that the jpgs and tifs look a bit different. You can read about why that is here:\n",
    "    \n",
    "[A Hands-on Guide to Color Correction](https://www.planet.com/pulse/color-correction/)"
   ]
  },
  {
   "cell_type": "code",
   "execution_count": null,
   "metadata": {
    "collapsed": true
   },
   "outputs": [],
   "source": [
    "sampled_images = sample_images(['clear', 'road', 'water'], n=3)\n",
    "\n",
    "for i in range(len(sampled_images)):\n",
    "    tif = sample_to_fname(sampled_images, i, 'tif')\n",
    "    jpg = sample_to_fname(sampled_images, i, 'jpg')\n",
    "\n",
    "    try:\n",
    "        tif_img = load_image(tif)[:,:,:3]\n",
    "        jpg_img = load_image(jpg)[:,:,:3]\n",
    "\n",
    "        fig = plt.figure()\n",
    "        plt.imshow(calibrate_image(tif_img))\n",
    "\n",
    "        fig = plt.figure()\n",
    "        plt.imshow(calibrate_image(jpg_img))\n",
    "    except:\n",
    "        continue\n",
    "        \n",
    "        "
   ]
  },
  {
   "cell_type": "markdown",
   "metadata": {},
   "source": [
    "## Image modification"
   ]
  },
  {
   "cell_type": "markdown",
   "metadata": {},
   "source": [
    "You might want to rotate, flip, or otherwise modify the images for training purposes. Note that the dimensions of the image changes:"
   ]
  },
  {
   "cell_type": "code",
   "execution_count": null,
   "metadata": {
    "collapsed": true
   },
   "outputs": [],
   "source": [
    "fig = plt.figure()\n",
    "fig.set_size_inches(12, 4)\n",
    "for i, (x, c) in enumerate(((r, 'r'), (g, 'g'), (b, 'b'), (nir, 'near-ir'))):\n",
    "    a = fig.add_subplot(1, 4, i+1)\n",
    "    a.set_title(c)\n",
    "    plt.imshow(x)"
   ]
  },
  {
   "cell_type": "code",
   "execution_count": null,
   "metadata": {
    "collapsed": true
   },
   "outputs": [],
   "source": [
    "rotated = scipy.ndimage.rotate(rgb_image, angle=45)\n",
    "plt.imshow(rgb_image)\n",
    "plt.imshow(calibrate_image(rotated))\n",
    "rotated.shape"
   ]
  },
  {
   "cell_type": "markdown",
   "metadata": {},
   "source": [
    "Original Notebook by Jesus Martinez Manso and Benjamin Goldenberg\n",
    "\n",
    "(C) Planet 2017"
   ]
  },
  {
   "cell_type": "code",
   "execution_count": null,
   "metadata": {
    "collapsed": true
   },
   "outputs": [],
   "source": []
  }
 ],
 "metadata": {
  "kernelspec": {
   "display_name": "Python 3",
   "language": "python",
   "name": "python3"
  },
  "language_info": {
   "codemirror_mode": {
    "name": "ipython",
    "version": 3
   },
   "file_extension": ".py",
   "mimetype": "text/x-python",
   "name": "python",
   "nbconvert_exporter": "python",
   "pygments_lexer": "ipython3",
   "version": "3.6.0"
  }
 },
 "nbformat": 4,
 "nbformat_minor": 0
}
